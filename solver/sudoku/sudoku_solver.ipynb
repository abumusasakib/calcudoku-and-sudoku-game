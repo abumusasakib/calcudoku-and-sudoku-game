{
 "cells": [
  {
   "cell_type": "code",
   "execution_count": 28,
   "metadata": {},
   "outputs": [],
   "source": [
    "# Importing necessary modules\n",
    "import os\n",
    "\n",
    "# Detect if running in Google Colab\n",
    "try:\n",
    "    from google.colab import files\n",
    "    is_colab = True\n",
    "except ImportError:\n",
    "    is_colab = False"
   ]
  },
  {
   "cell_type": "code",
   "execution_count": 29,
   "metadata": {},
   "outputs": [],
   "source": [
    "def parse_sudoku_file(file_path):\n",
    "    \"\"\"\n",
    "    Parses a Sudoku file into a 9x9 grid.\n",
    "    \"\"\"\n",
    "    grid = []\n",
    "    with open(file_path, 'r') as f:\n",
    "        for line in f:\n",
    "            if '-' in line or '+' in line:  # Skip separator lines\n",
    "                continue\n",
    "            grid.append([int(cell) if cell != '.' else 0 for cell in line.replace('|', '').split()])\n",
    "    return grid"
   ]
  },
  {
   "cell_type": "code",
   "execution_count": 30,
   "metadata": {},
   "outputs": [],
   "source": [
    "def is_valid(grid, row, col, num):\n",
    "    \"\"\"\n",
    "    Checks if placing `num` in cell (row, col) is valid.\n",
    "    \"\"\"\n",
    "    # Check row\n",
    "    if num in grid[row]:\n",
    "        return False\n",
    "\n",
    "    # Check column\n",
    "    if num in [grid[r][col] for r in range(9)]:\n",
    "        return False\n",
    "\n",
    "    # Check 3x3 subgrid\n",
    "    start_row, start_col = 3 * (row // 3), 3 * (col // 3)\n",
    "    for r in range(start_row, start_row + 3):\n",
    "        for c in range(start_col, start_col + 3):\n",
    "            if grid[r][c] == num:\n",
    "                return False\n",
    "\n",
    "    return True"
   ]
  },
  {
   "cell_type": "code",
   "execution_count": 31,
   "metadata": {},
   "outputs": [],
   "source": [
    "def solve_sudoku(grid, log):\n",
    "    \"\"\"\n",
    "    Solves the Sudoku puzzle using backtracking with validation and logs the process.\n",
    "    \"\"\"\n",
    "    for row in range(9):\n",
    "        for col in range(9):\n",
    "            if grid[row][col] == 0:  # Find an empty cell\n",
    "                for num in range(1, 10):  # Try numbers 1 to 9\n",
    "                    if is_valid(grid, row, col, num):\n",
    "                        grid[row][col] = num\n",
    "                        log.append(f\"Placed {num} at ({row + 1}, {col + 1})\")\n",
    "\n",
    "                        if solve_sudoku(grid, log):\n",
    "                            return True\n",
    "\n",
    "                        grid[row][col] = 0  # Backtrack\n",
    "                        log.append(f\"Backtracked from ({row + 1}, {col + 1})\")\n",
    "\n",
    "                return False  # No valid number found for this cell\n",
    "    return True  # Solved"
   ]
  },
  {
   "cell_type": "code",
   "execution_count": 32,
   "metadata": {},
   "outputs": [],
   "source": [
    "def format_sudoku_output(grid, log):\n",
    "    \"\"\"\n",
    "    Formats the solved Sudoku grid and logs into a string.\n",
    "    \"\"\"\n",
    "    output = []\n",
    "    for i, row in enumerate(grid):\n",
    "        output.append(' '.join(str(cell) if cell != 0 else '.' for cell in row))\n",
    "        if i in {2, 5}:\n",
    "            output.append('------+-------+------')  # Add separator lines\n",
    "    output.append(\"\\nSteps to Solution:\")\n",
    "    output.extend(log)\n",
    "    return '\\n'.join(output)"
   ]
  },
  {
   "cell_type": "code",
   "execution_count": 33,
   "metadata": {},
   "outputs": [],
   "source": [
    "def process_sudoku_file(input_file, output_file):\n",
    "    \"\"\"\n",
    "    Reads a Sudoku puzzle from an input file, solves it, and writes the solution to an output file.\n",
    "    \"\"\"\n",
    "    grid = parse_sudoku_file(input_file)\n",
    "    log = []\n",
    "\n",
    "    if solve_sudoku(grid, log):\n",
    "        solution = format_sudoku_output(grid, log)\n",
    "    else:\n",
    "        solution = \"No solution exists for the given Sudoku puzzle.\"\n",
    "\n",
    "    with open(output_file, 'w') as f:\n",
    "        f.write(solution)"
   ]
  },
  {
   "cell_type": "code",
   "execution_count": 34,
   "metadata": {},
   "outputs": [],
   "source": [
    "def upload_and_download_files():\n",
    "    \"\"\"\n",
    "    Handles file upload/download in Google Colab or local execution.\n",
    "    \"\"\"\n",
    "    input_files = ['input1.txt', 'input2.txt', 'input3.txt']\n",
    "    output_files = ['output1.txt', 'output2.txt', 'output3.txt']\n",
    "\n",
    "    if is_colab:\n",
    "        # Upload input files\n",
    "        uploaded = files.upload()\n",
    "        input_files = list(uploaded.keys())\n",
    "\n",
    "    # Process each file\n",
    "    for input_file, output_file in zip(input_files, output_files):\n",
    "        print(f\"Processing {input_file}...\")\n",
    "        process_sudoku_file(input_file, output_file)\n",
    "\n",
    "        if is_colab:\n",
    "            files.download(output_file)\n",
    "        else:\n",
    "            print(f\"Output written to {output_file}\")"
   ]
  },
  {
   "cell_type": "code",
   "execution_count": 35,
   "metadata": {},
   "outputs": [],
   "source": [
    "def main():\n",
    "    upload_and_download_files()"
   ]
  },
  {
   "cell_type": "code",
   "execution_count": 36,
   "metadata": {},
   "outputs": [
    {
     "name": "stdout",
     "output_type": "stream",
     "text": [
      "Processing input1.txt...\n",
      "Output written to output1.txt\n",
      "Processing input2.txt...\n",
      "Output written to output2.txt\n",
      "Processing input3.txt...\n",
      "Output written to output3.txt\n"
     ]
    }
   ],
   "source": [
    "if __name__ == \"__main__\":\n",
    "    main()"
   ]
  }
 ],
 "metadata": {
  "kernelspec": {
   "display_name": "Python 3",
   "language": "python",
   "name": "python3"
  },
  "language_info": {
   "codemirror_mode": {
    "name": "ipython",
    "version": 3
   },
   "file_extension": ".py",
   "mimetype": "text/x-python",
   "name": "python",
   "nbconvert_exporter": "python",
   "pygments_lexer": "ipython3",
   "version": "3.12.6"
  }
 },
 "nbformat": 4,
 "nbformat_minor": 2
}
